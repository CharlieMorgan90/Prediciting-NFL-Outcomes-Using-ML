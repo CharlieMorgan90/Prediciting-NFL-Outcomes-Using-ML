{
 "cells": [
  {
   "cell_type": "code",
   "execution_count": 5,
   "id": "a532bae8",
   "metadata": {},
   "outputs": [],
   "source": [
    "#Using beautifulSoup to scrape team season data off nfl.com\n",
    "import requests\n",
    "from bs4 import BeautifulSoup\n",
    "import pandas as pd\n",
    "\n",
    "\n",
    "def display_nfl_stats(statistic_category, year, url, csv_file_path):\n",
    "    p = 1\n",
    "    payload = {\"statisticCategory\": statistic_category.upper(), \"seasonType\": \"REG\", \"d-447263-p\": str(p), \"season\": year}\n",
    "    response = requests.get(url, params=payload)\n",
    "    \n",
    "    if response.status_code != 200:\n",
    "        print(f\"Couldn't read data: {response.status_code}\")\n",
    "        return\n",
    "    \n",
    "    soup = BeautifulSoup(response.text, 'html.parser')\n",
    "    table = soup.find('table')\n",
    "    \n",
    "    if not table:\n",
    "        print(\"There isn't a table on the page.\")\n",
    "        return\n",
    "    \n",
    "    headers = [header.text.strip() for header in table.find_all('th')]\n",
    "    rows = table.find_all('tr')\n",
    "    table_rows = []\n",
    "    \n",
    "    for row in rows[1:]: \n",
    "        cols = row.find_all('td')\n",
    "        cols = [ele.text.strip() for ele in cols]\n",
    "        table_rows.append([ele for ele in cols if ele])\n",
    "    \n",
    "    resultsDF = pd.DataFrame(table_rows, columns=headers)\n",
    "    resultsDF['Team'] = resultsDF['Team'].map(lambda x: x.strip().replace('\\n', '').replace('  ', ' '))\n",
    "    resultsDF['Team'] = resultsDF['Team'].map(lambda x: x.split()[0])\n",
    "    \n",
    "    resultsDF.to_csv(csv_file_path, index=False)"
   ]
  },
  {
   "cell_type": "code",
   "execution_count": null,
   "id": "185017ec",
   "metadata": {},
   "outputs": [],
   "source": [
    "#Special Teams Data\n",
    "display_nfl_stats('FIELD GOALS', '2023', 'https://www.nfl.com/stats/team-stats/special-teams/field-goals/2023/reg/all', '/Users/charlesmorgan/Desktop/NFL Stats/FieldGoalStatsSpecialTeams.csv')\n",
    "display_nfl_stats('SCORING', '2023', 'https://www.nfl.com/stats/team-stats/special-teams/scoring/2023/reg/all', '/Users/charlesmorgan/Desktop/NFL Stats/ScoringStatsSpecialTeams.csv')\n",
    "display_nfl_stats('KICKOFFS', '2023', 'https://www.nfl.com/stats/team-stats/special-teams/kickoffs/2023/reg/all', '/Users/charlesmorgan/Desktop/NFL Stats/KickoffsSpecialTeams.csv')\n",
    "display_nfl_stats('KICKOFF RETURNS', '2023', 'https://www.nfl.com/stats/team-stats/special-teams/kickoff-returns/2023/reg/all', '/Users/charlesmorgan/Desktop/NFL Stats/KickoffReturnsStatsSpecialTeams.csv')\n",
    "display_nfl_stats('PUNTING', '2023', 'https://www.nfl.com/stats/team-stats/special-teams/punts/2023/reg/all', '/Users/charlesmorgan/Desktop/NFL Stats/PuntingStatsSpecialTeams.csv')\n",
    "display_nfl_stats('PUNT RETURNS', '2023', 'https://www.nfl.com/stats/team-stats/special-teams/punt-returns/2023/reg/all', '/Users/charlesmorgan/Desktop/NFL Stats/PuntReturnsStatsSpecialTeams.csv')\n",
    "\n",
    "#Defensive Data\n",
    "display_nfl_stats('PASSING', '2023', 'https://www.nfl.com/stats/team-stats/defense/passing/2023/reg/all', '/Users/charlesmorgan/Desktop/NFL Stats/PassingStatsDefense.csv')\n",
    "display_nfl_stats('RUSHING', '2023', 'https://www.nfl.com/stats/team-stats/defense/rushing/2023/reg/all', '/Users/charlesmorgan/Desktop/NFL Stats/RushingStatsDefense.csv')\n",
    "display_nfl_stats('RECEIVING', '2023', 'https://www.nfl.com/stats/team-stats/defense/receiving/2023/reg/all', '/Users/charlesmorgan/Desktop/NFL Stats/ReceivingStatsDefense.csv')\n",
    "display_nfl_stats('SCORING', '2023', 'https://www.nfl.com/stats/team-stats/defense/scoring/2023/reg/all', '/Users/charlesmorgan/Desktop/NFL Stats/ScoringStatsDefense.csv')\n",
    "display_nfl_stats('TACKLES', '2023', 'https://www.nfl.com/stats/team-stats/defense/tackles/2023/reg/all', '/Users/charlesmorgan/Desktop/NFL Stats/TackleStatsDefense.csv')\n",
    "display_nfl_stats('DOWNS', '2023', 'https://www.nfl.com/stats/team-stats/defense/downs/2023/reg/all', '/Users/charlesmorgan/Desktop/NFL Stats/DownsStatsDefense.csv')\n",
    "display_nfl_stats('FUMBLES', '2023', 'https://www.nfl.com/stats/team-stats/defense/fumbles/2023/reg/all', '/Users/charlesmorgan/Desktop/NFL Stats/FumbleStatsDefense.csv')\n",
    "display_nfl_stats('INTERCEPTIONS', '2023', 'https://www.nfl.com/stats/team-stats/defense/interceptions/2023/reg/all', '/Users/charlesmorgan/Desktop/NFL Stats/InterceptionStatsDefense.csv')\n",
    "\n",
    "#Offensive Data\n",
    "display_nfl_stats('PASSING', '2023', 'https://www.nfl.com/stats/team-stats/', '/Users/charlesmorgan/Desktop/NFL Stats/PassingStatsOffense.csv')\n",
    "display_nfl_stats('RUSHING', '2023', 'https://www.nfl.com/stats/team-stats/offense/rushing/2023/reg/all', '/Users/charlesmorgan/Desktop/NFL Stats/RushingStatsOffense.csv')\n",
    "display_nfl_stats('RECEIVING', '2023', 'https://www.nfl.com/stats/team-stats/offense/receiving/2023/reg/all', '/Users/charlesmorgan/Desktop/NFL Stats/ReceivingStatsOffense.csv')\n",
    "display_nfl_stats('SCORING', '2023', 'https://www.nfl.com/stats/team-stats/offense/scoring/2023/reg/all', '/Users/charlesmorgan/Desktop/NFL Stats/ScoringStatsOffense.csv')\n",
    "display_nfl_stats('DOWNS', '2023', 'https://www.nfl.com/stats/team-stats/offense/downs/2023/reg/all', '/Users/charlesmorgan/Desktop/NFL Stats/DownsStatsOffense.csv')"
   ]
  }
 ],
 "metadata": {
  "kernelspec": {
   "display_name": "Python 3 (ipykernel)",
   "language": "python",
   "name": "python3"
  },
  "language_info": {
   "codemirror_mode": {
    "name": "ipython",
    "version": 3
   },
   "file_extension": ".py",
   "mimetype": "text/x-python",
   "name": "python",
   "nbconvert_exporter": "python",
   "pygments_lexer": "ipython3",
   "version": "3.9.13"
  }
 },
 "nbformat": 4,
 "nbformat_minor": 5
}
