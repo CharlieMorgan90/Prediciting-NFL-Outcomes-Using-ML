{
 "cells": [
  {
   "cell_type": "code",
   "execution_count": 9,
   "id": "137ae998",
   "metadata": {},
   "outputs": [
    {
     "name": "stdout",
     "output_type": "stream",
     "text": [
      "Offense merged stats saved to: /Users/charlesmorgan/Desktop/NFL Stats/offense_merged_stats.csv\n",
      "Defense merged stats saved to: /Users/charlesmorgan/Desktop/NFL Stats/defense_merged_stats.csv\n",
      "Specialteams merged stats saved to: /Users/charlesmorgan/Desktop/NFL Stats/specialteams_merged_stats.csv\n"
     ]
    }
   ],
   "source": [
    "#Combining all offensive, defensive, and special_teams files into one file for each\n",
    "def add_prefix_to_columns(df, prefix):\n",
    "    return df.rename(columns=lambda x: f\"{prefix}_{x}\" if x != 'Team' else x)\n",
    "\n",
    "def merge_stats(file_list, category_prefix, input_dir, output_dir):\n",
    "    merged_stats = pd.DataFrame()\n",
    "    for file_name in file_list:\n",
    "        \n",
    "        prefix = f\"{category_prefix}_{file_name.split('Stats')[0].lower()[:2]}\"\n",
    "        \n",
    "        stats_path = os.path.join(input_dir, file_name)\n",
    "        current_stats = pd.read_csv(stats_path)\n",
    "        \n",
    "        current_stats['Team'] = current_stats['Team'].str.strip()\n",
    "\n",
    "        current_stats = add_prefix_to_columns(current_stats, prefix)\n",
    "        \n",
    "        if merged_stats.empty:\n",
    "            merged_stats = current_stats\n",
    "        else:\n",
    "            merged_stats = pd.merge(merged_stats, current_stats, on='Team', how='outer')\n",
    "    \n",
    "    output_filepath = os.path.join(output_dir, f\"{category_prefix}_merged_stats.csv\")\n",
    "    merged_stats.to_csv(output_filepath, index=False)\n",
    "    print(f\"{category_prefix.title()} merged stats saved to: {output_filepath}\")\n",
    "\n",
    "input_base_path = '/Users/charlesmorgan/Desktop/NFL Stats/'\n",
    "output_base_path = '/Users/charlesmorgan/Desktop/NFL Stats/'    \n",
    "\n",
    "offensive_files = [\n",
    "    'PassingStatsOffense.csv', 'RushingStatsOffense.csv',\n",
    "    'RecievingStatsOffense.csv', 'DownsStatsOffense.csv',\n",
    "    'ScoringStatsOffense.csv'\n",
    "]\n",
    "defensive_files = [\n",
    "    'PassingStatsDefense.csv', 'RushingStatsDefense.csv', \n",
    "    'RecievingStatsDefense.csv', 'InterceptionStatsDefense.csv',\n",
    "    'FumbleStatsDefense.csv', 'DownsStatsDefense.csv', 'TackleStatsDefense.csv',\n",
    "    'ScoringStatsDefense.csv'\n",
    "]\n",
    "special_teams_files = [\n",
    "    'FeildGoalStatsSpecialTeams.csv',\n",
    "    'KickoffReturnsStatsSpecialTeams.csv', 'PuntReturnsStatsSpecialTeams.csv',\n",
    "    'PuntingStatsSpecialTeams.csv', 'KickoffsSpecialTeams.csv', \n",
    "    'ScoringStatsSpecialTeams.csv'\n",
    "]\n",
    "\n",
    "merge_stats(offensive_files, 'offense', input_base_path, output_base_path)\n",
    "merge_stats(defensive_files, 'defense', input_base_path, output_base_path)\n",
    "merge_stats(special_teams_files, 'specialteams', input_base_path, output_base_path)"
   ]
  },
  {
   "cell_type": "code",
   "execution_count": 10,
   "id": "c4a4dca3",
   "metadata": {},
   "outputs": [
    {
     "name": "stdout",
     "output_type": "stream",
     "text": [
      "All stats merged and saved to: /Users/charlesmorgan/Desktop/NFL Stats/combined_all_stats.csv\n"
     ]
    }
   ],
   "source": [
    "#Combining the offensive, defensive, and special_teams files into one big file that includes all stats\n",
    "import pandas as pd\n",
    "import os\n",
    "\n",
    "offense_path = os.path.join(output_base_path, 'offense_merged_stats.csv')\n",
    "defense_path = os.path.join(output_base_path, 'defense_merged_stats.csv')\n",
    "special_teams_path = os.path.join(output_base_path, 'specialteams_merged_stats.csv')\n",
    "\n",
    "offense_stats = pd.read_csv(offense_path)\n",
    "defense_stats = pd.read_csv(defense_path)\n",
    "special_teams_stats = pd.read_csv(special_teams_path)\n",
    "\n",
    "combined_stats = pd.merge(offense_stats, defense_stats, on='Team', how='outer')\n",
    "\n",
    "combined_stats = pd.merge(combined_stats, special_teams_stats, on='Team', how='outer')\n",
    "\n",
    "combined_stats_path = os.path.join(output_base_path, 'combined_all_stats.csv')\n",
    "combined_stats.to_csv(combined_stats_path, index=False)\n",
    "\n",
    "print(f\"All stats merged and saved to: {combined_stats_path}\")"
   ]
  },
  {
   "cell_type": "code",
   "execution_count": 11,
   "id": "6e0f9d94",
   "metadata": {},
   "outputs": [
    {
     "name": "stdout",
     "output_type": "stream",
     "text": [
      "Merged dataset saved to: /Users/charlesmorgan/Desktop/Merged Data/offense_merged_stats.csv\n",
      "Merged dataset saved to: /Users/charlesmorgan/Desktop/Merged Data/defense_merged_stats.csv\n",
      "Merged dataset saved to: /Users/charlesmorgan/Desktop/Merged Data/specialteams_merged_stats.csv\n",
      "Merged dataset saved to: /Users/charlesmorgan/Desktop/Merged Data/combined_all_stats.csv\n",
      "Merged dataset saved to: /Users/charlesmorgan/Desktop/Merged Data/FeildGoalStatsSpecialTeams.csv\n",
      "Merged dataset saved to: /Users/charlesmorgan/Desktop/Merged Data/PassingStatsDefense.csv\n",
      "Merged dataset saved to: /Users/charlesmorgan/Desktop/Merged Data/RushingStatsDefense.csv\n",
      "Merged dataset saved to: /Users/charlesmorgan/Desktop/Merged Data/RecievingStatsDefense.csv\n",
      "Merged dataset saved to: /Users/charlesmorgan/Desktop/Merged Data/PassingStatsOffense.csv\n",
      "Merged dataset saved to: /Users/charlesmorgan/Desktop/Merged Data/InterceptionStatsDefense.csv\n",
      "Merged dataset saved to: /Users/charlesmorgan/Desktop/Merged Data/KickoffReturnsStatsSpecialTeams.csv\n",
      "Merged dataset saved to: /Users/charlesmorgan/Desktop/Merged Data/PuntReturnsStatsSpecialTeams.csv\n",
      "Merged dataset saved to: /Users/charlesmorgan/Desktop/Merged Data/RushingStatsOffense.csv\n",
      "Merged dataset saved to: /Users/charlesmorgan/Desktop/Merged Data/RecievingStatsOffense.csv\n",
      "Merged dataset saved to: /Users/charlesmorgan/Desktop/Merged Data/PuntingStatsSpecialTeams.csv\n"
     ]
    },
    {
     "name": "stderr",
     "output_type": "stream",
     "text": [
      "/var/folders/57/xt02n_1159z1j0k3c7_r0vyh0000gn/T/ipykernel_23294/6705706.py:35: PerformanceWarning: DataFrame is highly fragmented.  This is usually the result of calling `frame.insert` many times, which has poor performance.  Consider joining all columns at once using pd.concat(axis=1) instead. To get a de-fragmented frame, use `newframe = frame.copy()`\n",
      "  merged_data['Home_Win'] = (merged_data['Home Team Score'] > merged_data['Away Team Score']).astype(int)\n"
     ]
    },
    {
     "name": "stdout",
     "output_type": "stream",
     "text": [
      "Merged dataset saved to: /Users/charlesmorgan/Desktop/Merged Data/KickoffsSpecialTeams.csv\n",
      "Merged dataset saved to: /Users/charlesmorgan/Desktop/Merged Data/ScoringStatsSpecialTeams.csv\n",
      "Merged dataset saved to: /Users/charlesmorgan/Desktop/Merged Data/DownsStatsOffense.csv\n",
      "Merged dataset saved to: /Users/charlesmorgan/Desktop/Merged Data/ScoringStatsOffense.csv\n",
      "Merged dataset saved to: /Users/charlesmorgan/Desktop/Merged Data/FumbleStatsDefense.csv\n",
      "Merged dataset saved to: /Users/charlesmorgan/Desktop/Merged Data/DownsStatsDefense.csv\n",
      "Merged dataset saved to: /Users/charlesmorgan/Desktop/Merged Data/TackleStatsDefense.csv\n",
      "Merged dataset saved to: /Users/charlesmorgan/Desktop/Merged Data/ScoringStatsDefense.csv\n"
     ]
    }
   ],
   "source": [
    "#Adding the stats of each team in each game, along with a column indicating if the home team won or loss, so\n",
    "#the model has a column to predict on.\n",
    "\n",
    "import pandas as pd\n",
    "import os\n",
    "\n",
    "file_names = [\n",
    "    'offense_merged_stats.csv', 'defense_merged_stats.csv', 'specialteams_merged_stats.csv',\n",
    "    'combined_all_stats.csv', 'FeildGoalStatsSpecialTeams.csv', 'PassingStatsDefense.csv', 'RushingStatsDefense.csv', \n",
    "    'RecievingStatsDefense.csv', 'PassingStatsOffense.csv', 'InterceptionStatsDefense.csv',\n",
    "    'KickoffReturnsStatsSpecialTeams.csv', 'PuntReturnsStatsSpecialTeams.csv',\n",
    "    'RushingStatsOffense.csv', 'RecievingStatsOffense.csv',\n",
    "    'PuntingStatsSpecialTeams.csv', 'KickoffsSpecialTeams.csv', \n",
    "    'ScoringStatsSpecialTeams.csv', 'DownsStatsOffense.csv', 'ScoringStatsOffense.csv',\n",
    "    'FumbleStatsDefense.csv', 'DownsStatsDefense.csv', 'TackleStatsDefense.csv',\n",
    "    'ScoringStatsDefense.csv']\n",
    "\n",
    "input_base_path = '/Users/charlesmorgan/Desktop/NFL Stats/'\n",
    "output_base_path = '/Users/charlesmorgan/Desktop/Merged Data/'  \n",
    "\n",
    "for file in file_names:\n",
    "    stats_filepath = os.path.join(input_base_path, file)\n",
    "    output_filepath = os.path.join(output_base_path, file)\n",
    "    \n",
    "    team_stats = pd.read_csv(stats_filepath)\n",
    "    games = pd.read_csv('/Users/charlesmorgan/Desktop/NFL Stats/Games.csv')\n",
    "    \n",
    "    team_stats['Team'] = team_stats['Team'].str.strip()\n",
    "    games['Home Team'] = games['Home Team'].str.strip()\n",
    "    games['Away Team'] = games['Away Team'].str.strip()\n",
    "\n",
    "    merged_data = pd.merge(games, team_stats, left_on='Home Team', right_on='Team', suffixes=('', '_home'))\n",
    "\n",
    "    merged_data = pd.merge(merged_data, team_stats, left_on='Away Team', right_on='Team', suffixes=('_home', '_away'))\n",
    "\n",
    "    merged_data.drop(['Team_home', 'Team_away'], axis=1, inplace=True)\n",
    "\n",
    "    merged_data['Home_Win'] = (merged_data['Home Team Score'] > merged_data['Away Team Score']).astype(int)\n",
    "    merged_data.drop(['Home Team Score', 'Away Team Score'], axis=1, inplace=True)\n",
    "\n",
    "    merged_data.to_csv(output_filepath, index=False)\n",
    "\n",
    "    print(\"Merged dataset saved to:\", output_filepath)"
   ]
  },
  {
   "cell_type": "code",
   "execution_count": null,
   "id": "6be4a95e",
   "metadata": {},
   "outputs": [],
   "source": []
  }
 ],
 "metadata": {
  "kernelspec": {
   "display_name": "Python 3 (ipykernel)",
   "language": "python",
   "name": "python3"
  },
  "language_info": {
   "codemirror_mode": {
    "name": "ipython",
    "version": 3
   },
   "file_extension": ".py",
   "mimetype": "text/x-python",
   "name": "python",
   "nbconvert_exporter": "python",
   "pygments_lexer": "ipython3",
   "version": "3.9.13"
  }
 },
 "nbformat": 4,
 "nbformat_minor": 5
}
